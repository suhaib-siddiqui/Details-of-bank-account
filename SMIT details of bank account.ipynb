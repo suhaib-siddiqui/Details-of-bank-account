{
 "cells": [
  {
   "cell_type": "code",
   "execution_count": 6,
   "id": "3a2cd56a-c6be-441d-9761-a3ecf6e8732c",
   "metadata": {},
   "outputs": [
    {
     "name": "stdout",
     "output_type": "stream",
     "text": [
      "Account Details:\n",
      "Account Number: 123456789\n",
      "Customer Name: M.Suhaib Siddiqui\n",
      "Father's Name: M.Adnan Siddiqui\n",
      "CNIC: 12345-6789012-3\n",
      "Balance: 10000\n",
      "Withdrawal Limit: 5000\n",
      "Deposit successful. New balance: 12000\n",
      "Withdrawal successful. New balance: 9000\n",
      "Error: Amount exceeds withdrawal limit.\n"
     ]
    }
   ],
   "source": [
    "class BankAccount:\n",
    "    def __init__(self, account_number, customer_name, father_name, cnic, balance, withdrawal_limit):\n",
    "        self.account_number = account_number\n",
    "        self.customer_name = customer_name\n",
    "        self.father_name = father_name\n",
    "        self.cnic = cnic\n",
    "        self.balance = balance\n",
    "        self.withdrawal_limit = withdrawal_limit\n",
    "\n",
    "    def display_details(self):\n",
    "        print(\"Account Details:\")\n",
    "        print(f\"Account Number: {self.account_number}\")\n",
    "        print(f\"Customer Name: {self.customer_name}\")\n",
    "        print(f\"Father's Name: {self.father_name}\")\n",
    "        print(f\"CNIC: {self.cnic}\")\n",
    "        print(f\"Balance: {self.balance}\")\n",
    "        print(f\"Withdrawal Limit: {self.withdrawal_limit}\")\n",
    "\n",
    "    def withdraw(self, amount):\n",
    "        if amount > self.withdrawal_limit:\n",
    "            print(\"Error: Amount exceeds withdrawal limit.\")\n",
    "        elif amount > self.balance:\n",
    "            print(\"Error: Insufficient balance.\")\n",
    "        else:\n",
    "            self.balance -= amount\n",
    "            print(f\"Withdrawal successful. New balance: {self.balance}\")\n",
    "\n",
    "    def deposit(self, amount):\n",
    "        self.balance += amount\n",
    "        print(f\"Deposit successful. New balance: {self.balance}\")\n",
    "\n",
    "\n",
    "# Example usage\n",
    "account = BankAccount(\n",
    "    account_number=\"123456789\",\n",
    "    customer_name=\"M.Suhaib Siddiqui\",\n",
    "    father_name=\"M.Adnan Siddiqui\",\n",
    "    cnic=\"12345-6789012-3\",\n",
    "    balance=10000,\n",
    "    withdrawal_limit=5000\n",
    ")\n",
    "\n",
    "account.display_details()\n",
    "account.deposit(2000)\n",
    "account.withdraw(3000)\n",
    "account.withdraw(6000)"
   ]
  },
  {
   "cell_type": "code",
   "execution_count": null,
   "id": "99029624-c486-462a-a04d-259fe450b99f",
   "metadata": {},
   "outputs": [],
   "source": []
  }
 ],
 "metadata": {
  "kernelspec": {
   "display_name": "Python 3 (ipykernel)",
   "language": "python",
   "name": "python3"
  },
  "language_info": {
   "codemirror_mode": {
    "name": "ipython",
    "version": 3
   },
   "file_extension": ".py",
   "mimetype": "text/x-python",
   "name": "python",
   "nbconvert_exporter": "python",
   "pygments_lexer": "ipython3",
   "version": "3.12.7"
  }
 },
 "nbformat": 4,
 "nbformat_minor": 5
}
